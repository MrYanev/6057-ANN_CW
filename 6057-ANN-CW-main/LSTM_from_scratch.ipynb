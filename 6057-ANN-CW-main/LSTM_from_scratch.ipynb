{
  "nbformat": 4,
  "nbformat_minor": 0,
  "metadata": {
    "colab": {
      "provenance": []
    },
    "kernelspec": {
      "name": "python3",
      "display_name": "Python 3"
    },
    "language_info": {
      "name": "python"
    }
  },
  "cells": [
    {
      "cell_type": "code",
      "source": [
        "pip install pandas_ta"
      ],
      "metadata": {
        "id": "AmSwu0vzj9Eo"
      },
      "execution_count": null,
      "outputs": []
    },
    {
      "cell_type": "code",
      "execution_count": null,
      "metadata": {
        "id": "sVQGV4YJVyc9"
      },
      "outputs": [],
      "source": [
        "import numpy as np\n",
        "import pandas as pd\n",
        "import pandas_ta as ta\n",
        "import matplotlib.pyplot as plt\n",
        "#Pandas_ta for adding the technical analysis indicators\n",
        "\n",
        "#Loading the data file\n",
        "df = pd.read_csv('yahoo_stock.csv')\n",
        "df.head(10)"
      ]
    },
    {
      "cell_type": "code",
      "source": [
        "#Adding technical indicators\n",
        "df['RSI'] = ta.rsi(df.Close, length=15)\n",
        "#Fast moving average\n",
        "df['EMAF'] = ta.ema(df.Close, length=20)\n",
        "#Medium moving average\n",
        "df['EMAM'] = ta.ema(df.Close, length=100)\n",
        "#Slow moving average\n",
        "df['EMAS'] = ta.ema(df.Close, length=150)"
      ],
      "metadata": {
        "id": "KCrnCKyN8QA-"
      },
      "execution_count": null,
      "outputs": []
    },
    {
      "cell_type": "code",
      "source": [
        "#Adding target column\n",
        "#Calculating the difference between the close price and open price\n",
        "df['Target'] = df['Adj Close'] - df.Open\n",
        "df['Target'] = df['Target'].shift(-1)\n",
        "\n",
        "\n",
        "#This is the classification approach whether the price is going up or down \n",
        "df['TargetClass'] = [1 if df.Target[i] > 0 else 0 for i in range(len(df))]\n",
        "\n",
        "#Closing price of the next day\n",
        "#Obtained by shifting the day 1 back\n",
        "df['TargetNextClose'] = df['Adj Close'].shift(-1)"
      ],
      "metadata": {
        "id": "Rp6QvSNZ8YgR"
      },
      "execution_count": null,
      "outputs": []
    },
    {
      "cell_type": "code",
      "source": [
        "#Removing missing values and unnecessary columns\n",
        "df.dropna(inplace=True)\n",
        "df.reset_index(inplace=True)\n",
        "df.drop(['Volume', 'Close', 'Date'], axis=1, inplace=True)"
      ],
      "metadata": {
        "id": "uClgKT3G9Bo2"
      },
      "execution_count": null,
      "outputs": []
    },
    {
      "cell_type": "code",
      "source": [
        "#Remove index columns as they are not needed\n",
        "df.drop(['index'], axis=1, inplace=True)"
      ],
      "metadata": {
        "id": "lgUE1l90a4HG"
      },
      "execution_count": null,
      "outputs": []
    },
    {
      "cell_type": "code",
      "source": [
        "data_set = df.iloc[:, 0:11]\n",
        "pd.set_option('display.max_columns', None)\n",
        "\n",
        "data_set.head(10)"
      ],
      "metadata": {
        "id": "B6uHbBW_9Hnt"
      },
      "execution_count": null,
      "outputs": []
    },
    {
      "cell_type": "code",
      "source": [
        "#Applying the MinMaxScaler so I can have data ranging betwen 0 and 1\n",
        "from sklearn.preprocessing import MinMaxScaler\n",
        "sc = MinMaxScaler(feature_range=(0, 1))\n",
        "data_set_scaled = sc.fit_transform(data_set)\n",
        "print(data_set_scaled)"
      ],
      "metadata": {
        "id": "cjtXwWPR9NjG"
      },
      "execution_count": null,
      "outputs": []
    },
    {
      "cell_type": "code",
      "source": [
        "#Multiple feature from data provided to the model\n",
        "X = []\n",
        "\n",
        "#This is the number of days you want to look back\n",
        "backcandles = 15\n",
        "print(data_set_scaled.shape[0])\n",
        "#This is the part where the columns are getting processed \n",
        "for j in range(8):\n",
        "  X.append([])\n",
        "  for i in range(backcandles, data_set_scaled.shape[0]):\n",
        "    X[j].append(data_set_scaled[i-backcandles:i, j])\n",
        "\n",
        "#Move axis from 0 to possition 2\n",
        "X = np.moveaxis(X, [0], [2])\n",
        "\n",
        "#Choose -2 for last column, classification else -1...\n",
        "X, yi = np.array(X), np.array(data_set_scaled[backcandles:, -1])\n",
        "y = np.reshape(yi, (len(yi), 1))\n",
        "\n",
        "print(X.shape)\n",
        "print(X)\n",
        "print(y.shape)\n",
        "print(y)"
      ],
      "metadata": {
        "id": "tjxcxL5Q9Xgy"
      },
      "execution_count": null,
      "outputs": []
    },
    {
      "cell_type": "code",
      "source": [
        "#Splitting the data\n",
        "splitlimit = int(len(X)*0.8)\n",
        "print(splitlimit)\n",
        "X_train, X_test = X[:splitlimit], X[splitlimit:]\n",
        "y_train, y_test = y[:splitlimit], y[splitlimit:]\n",
        "\n",
        "print(X_train.shape)\n",
        "print(X_test.shape)\n",
        "print(y_train.shape)\n",
        "print(y_test.shape)\n",
        "print(y_train)"
      ],
      "metadata": {
        "id": "F3qIrudi90IN"
      },
      "execution_count": null,
      "outputs": []
    },
    {
      "cell_type": "code",
      "source": [
        "import keras\n",
        "import tensorflow as tf\n",
        "from keras import optimizers\n",
        "from keras.layers import LSTM\n",
        "from keras.models import Model\n",
        "from keras.layers import Dense\n",
        "from keras.layers import Dropout\n",
        "from keras.models import Sequential\n",
        "from keras.callbacks import History\n",
        "from keras.layers import TimeDistributed\n",
        "from keras.layers import Input, Activation, concatenate\n",
        "from prompt_toolkit.shortcuts.dialogs import input_dialog\n",
        "\n",
        "#The model is fed two dimentional matix (days back to predict + the columns )\n",
        "lstm_input = Input(shape=(backcandles, 8), name='lstm_input')\n",
        "inputs = LSTM(500, name='first_layer')(lstm_input)\n",
        "inputs = Dense(1, name='dense_layer')(inputs)\n",
        "output = Activation('sigmoid', name='output')(inputs)\n",
        "model = Model(inputs=lstm_input, outputs=output)\n",
        "adam = optimizers.Adam()\n",
        "model.compile(optimizer=adam, loss='mse')\n",
        "model.fit(x=X_train, y=y_train, batch_size=25, epochs=100, shuffle=True, validation_split = 0.1)"
      ],
      "metadata": {
        "id": "vxar9Qbv9595"
      },
      "execution_count": null,
      "outputs": []
    },
    {
      "cell_type": "code",
      "source": [
        "y_pred = model.predict(X_test)\n",
        "for i in range(10):\n",
        "  print(y_pred[i], y_test[i])"
      ],
      "metadata": {
        "id": "mf0MnO_-_l0J"
      },
      "execution_count": null,
      "outputs": []
    },
    {
      "cell_type": "code",
      "source": [
        "plt.figure(figsize=(16,8))\n",
        "plt.plot(y_test, color = 'black', label = 'Test')\n",
        "plt.plot(y_pred, color = 'green', label = 'pred')\n",
        "plt.legend()\n",
        "plt.show()"
      ],
      "metadata": {
        "id": "ccelaGK2_nlv"
      },
      "execution_count": null,
      "outputs": []
    },
    {
      "cell_type": "code",
      "source": [
        "#References to https://www.youtube.com/watch?v=hpfQE0bTeA4&t=12s\n",
        "#For the tutorial of how to build the model"
      ],
      "metadata": {
        "id": "fm-DUxp4_q9Y"
      },
      "execution_count": null,
      "outputs": []
    }
  ]
}